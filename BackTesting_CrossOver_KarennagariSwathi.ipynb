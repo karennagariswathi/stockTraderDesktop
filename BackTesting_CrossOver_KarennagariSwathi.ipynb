{
 "cells": [
  {
   "cell_type": "code",
   "execution_count": 1,
   "id": "1a886c51",
   "metadata": {},
   "outputs": [
    {
     "name": "stdout",
     "output_type": "stream",
     "text": [
      "Requirement already satisfied: backtesting in c:\\users\\swathi\\anaconda3\\lib\\site-packages (0.3.3)\n",
      "Requirement already satisfied: pandas!=0.25.0,>=0.25.0 in c:\\users\\swathi\\anaconda3\\lib\\site-packages (from backtesting) (1.2.4)\n",
      "Requirement already satisfied: numpy>=1.17.0 in c:\\users\\swathi\\anaconda3\\lib\\site-packages (from backtesting) (1.20.1)\n",
      "Requirement already satisfied: bokeh>=1.4.0 in c:\\users\\swathi\\anaconda3\\lib\\site-packages (from backtesting) (2.3.2)\n",
      "Requirement already satisfied: python-dateutil>=2.1 in c:\\users\\swathi\\anaconda3\\lib\\site-packages (from bokeh>=1.4.0->backtesting) (2.8.1)\n",
      "Requirement already satisfied: pillow>=7.1.0 in c:\\users\\swathi\\anaconda3\\lib\\site-packages (from bokeh>=1.4.0->backtesting) (8.2.0)\n",
      "Requirement already satisfied: Jinja2>=2.9 in c:\\users\\swathi\\anaconda3\\lib\\site-packages (from bokeh>=1.4.0->backtesting) (2.11.3)\n",
      "Requirement already satisfied: PyYAML>=3.10 in c:\\users\\swathi\\anaconda3\\lib\\site-packages (from bokeh>=1.4.0->backtesting) (5.4.1)\n",
      "Requirement already satisfied: packaging>=16.8 in c:\\users\\swathi\\anaconda3\\lib\\site-packages (from bokeh>=1.4.0->backtesting) (20.9)\n",
      "Requirement already satisfied: tornado>=5.1 in c:\\users\\swathi\\anaconda3\\lib\\site-packages (from bokeh>=1.4.0->backtesting) (6.1)\n",
      "Requirement already satisfied: typing-extensions>=3.7.4 in c:\\users\\swathi\\anaconda3\\lib\\site-packages (from bokeh>=1.4.0->backtesting) (3.7.4.3)\n",
      "Requirement already satisfied: MarkupSafe>=0.23 in c:\\users\\swathi\\anaconda3\\lib\\site-packages (from Jinja2>=2.9->bokeh>=1.4.0->backtesting) (1.1.1)\n",
      "Requirement already satisfied: pyparsing>=2.0.2 in c:\\users\\swathi\\anaconda3\\lib\\site-packages (from packaging>=16.8->bokeh>=1.4.0->backtesting) (2.4.7)\n",
      "Requirement already satisfied: pytz>=2017.3 in c:\\users\\swathi\\anaconda3\\lib\\site-packages (from pandas!=0.25.0,>=0.25.0->backtesting) (2021.1)\n",
      "Requirement already satisfied: six>=1.5 in c:\\users\\swathi\\anaconda3\\lib\\site-packages (from python-dateutil>=2.1->bokeh>=1.4.0->backtesting) (1.15.0)\n"
     ]
    }
   ],
   "source": [
    "!pip3 install backtesting"
   ]
  },
  {
   "cell_type": "code",
   "execution_count": 2,
   "id": "ba2937b0",
   "metadata": {},
   "outputs": [
    {
     "name": "stdout",
     "output_type": "stream",
     "text": [
      "Requirement already satisfied: plotly in c:\\users\\swathi\\anaconda3\\lib\\site-packages (5.22.0)\n",
      "Requirement already satisfied: packaging in c:\\users\\swathi\\anaconda3\\lib\\site-packages (from plotly) (20.9)\n",
      "Requirement already satisfied: tenacity>=6.2.0 in c:\\users\\swathi\\anaconda3\\lib\\site-packages (from plotly) (8.2.3)\n",
      "Requirement already satisfied: pyparsing>=2.0.2 in c:\\users\\swathi\\anaconda3\\lib\\site-packages (from packaging->plotly) (2.4.7)\n"
     ]
    }
   ],
   "source": [
    "!pip install plotly"
   ]
  },
  {
   "cell_type": "code",
   "execution_count": 3,
   "id": "a8e099cf",
   "metadata": {},
   "outputs": [
    {
     "name": "stdout",
     "output_type": "stream",
     "text": [
      "Requirement already satisfied: pandas_ta in c:\\users\\swathi\\anaconda3\\lib\\site-packages (0.3.14b0)\n",
      "Requirement already satisfied: pandas in c:\\users\\swathi\\anaconda3\\lib\\site-packages (from pandas_ta) (1.2.4)\n",
      "Requirement already satisfied: numpy>=1.16.5 in c:\\users\\swathi\\anaconda3\\lib\\site-packages (from pandas->pandas_ta) (1.20.1)\n",
      "Requirement already satisfied: python-dateutil>=2.7.3 in c:\\users\\swathi\\anaconda3\\lib\\site-packages (from pandas->pandas_ta) (2.8.1)\n",
      "Requirement already satisfied: pytz>=2017.3 in c:\\users\\swathi\\anaconda3\\lib\\site-packages (from pandas->pandas_ta) (2021.1)\n",
      "Requirement already satisfied: six>=1.5 in c:\\users\\swathi\\anaconda3\\lib\\site-packages (from python-dateutil>=2.7.3->pandas->pandas_ta) (1.15.0)\n"
     ]
    }
   ],
   "source": [
    "!pip install pandas_ta"
   ]
  },
  {
   "cell_type": "code",
   "execution_count": 4,
   "id": "3e56c0a1",
   "metadata": {},
   "outputs": [],
   "source": [
    "#Libraries import\n",
    "import pandas as pd\n",
    "import numpy as np\n",
    "import matplotlib.pyplot as plt\n",
    "import matplotlib.dates as mpl_dates\n",
    "import datetime\n",
    "from PIL import Image\n",
    "import matplotlib.image as mpimg\n",
    "import plotly\n",
    "import plotly.graph_objects as go"
   ]
  },
  {
   "cell_type": "code",
   "execution_count": 5,
   "id": "df069f91",
   "metadata": {},
   "outputs": [
    {
     "name": "stdout",
     "output_type": "stream",
     "text": [
      "Requirement already satisfied: pandas in c:\\users\\swathi\\anaconda3\\lib\\site-packages (1.2.4)\n",
      "Requirement already satisfied: matplotlib in c:\\users\\swathi\\anaconda3\\lib\\site-packages (3.3.4)\n",
      "Requirement already satisfied: cycler>=0.10 in c:\\users\\swathi\\anaconda3\\lib\\site-packages (from matplotlib) (0.10.0)\n",
      "Requirement already satisfied: pillow>=6.2.0 in c:\\users\\swathi\\anaconda3\\lib\\site-packages (from matplotlib) (8.2.0)\n",
      "Requirement already satisfied: python-dateutil>=2.1 in c:\\users\\swathi\\anaconda3\\lib\\site-packages (from matplotlib) (2.8.1)\n",
      "Requirement already satisfied: kiwisolver>=1.0.1 in c:\\users\\swathi\\anaconda3\\lib\\site-packages (from matplotlib) (1.3.1)\n",
      "Requirement already satisfied: numpy>=1.15 in c:\\users\\swathi\\anaconda3\\lib\\site-packages (from matplotlib) (1.20.1)\n",
      "Requirement already satisfied: pyparsing!=2.0.4,!=2.1.2,!=2.1.6,>=2.0.3 in c:\\users\\swathi\\anaconda3\\lib\\site-packages (from matplotlib) (2.4.7)\n",
      "Requirement already satisfied: six in c:\\users\\swathi\\anaconda3\\lib\\site-packages (from cycler>=0.10->matplotlib) (1.15.0)\n",
      "Requirement already satisfied: pytz>=2017.3 in c:\\users\\swathi\\anaconda3\\lib\\site-packages (from pandas) (2021.1)\n"
     ]
    }
   ],
   "source": [
    "!pip install pandas matplotlib"
   ]
  },
  {
   "cell_type": "code",
   "execution_count": 6,
   "id": "d15bc119",
   "metadata": {},
   "outputs": [],
   "source": [
    "import pandas as pd\n",
    "import matplotlib.pyplot as plt"
   ]
  },
  {
   "cell_type": "code",
   "execution_count": 7,
   "id": "4fe25c09",
   "metadata": {
    "scrolled": true
   },
   "outputs": [
    {
     "data": {
      "text/html": [
       "<div>\n",
       "<style scoped>\n",
       "    .dataframe tbody tr th:only-of-type {\n",
       "        vertical-align: middle;\n",
       "    }\n",
       "\n",
       "    .dataframe tbody tr th {\n",
       "        vertical-align: top;\n",
       "    }\n",
       "\n",
       "    .dataframe thead th {\n",
       "        text-align: right;\n",
       "    }\n",
       "</style>\n",
       "<table border=\"1\" class=\"dataframe\">\n",
       "  <thead>\n",
       "    <tr style=\"text-align: right;\">\n",
       "      <th></th>\n",
       "      <th>close</th>\n",
       "      <th>datetime</th>\n",
       "      <th>exchange_code</th>\n",
       "      <th>expiry_date</th>\n",
       "      <th>high</th>\n",
       "      <th>low</th>\n",
       "      <th>open</th>\n",
       "      <th>open_interest</th>\n",
       "      <th>product_type</th>\n",
       "      <th>stock_code</th>\n",
       "      <th>volume</th>\n",
       "    </tr>\n",
       "  </thead>\n",
       "  <tbody>\n",
       "    <tr>\n",
       "      <th>0</th>\n",
       "      <td>1086.10</td>\n",
       "      <td>2024-03-01 09:15:00</td>\n",
       "      <td>NFO</td>\n",
       "      <td>28-MAR-2024</td>\n",
       "      <td>1086.10</td>\n",
       "      <td>1082.00</td>\n",
       "      <td>1082.05</td>\n",
       "      <td>50979375</td>\n",
       "      <td>Futures</td>\n",
       "      <td>AXIBAN</td>\n",
       "      <td>153125</td>\n",
       "    </tr>\n",
       "    <tr>\n",
       "      <th>1</th>\n",
       "      <td>1087.25</td>\n",
       "      <td>2024-03-01 09:16:00</td>\n",
       "      <td>NFO</td>\n",
       "      <td>28-MAR-2024</td>\n",
       "      <td>1088.15</td>\n",
       "      <td>1085.25</td>\n",
       "      <td>1085.55</td>\n",
       "      <td>50979375</td>\n",
       "      <td>Futures</td>\n",
       "      <td>AXIBAN</td>\n",
       "      <td>210625</td>\n",
       "    </tr>\n",
       "    <tr>\n",
       "      <th>2</th>\n",
       "      <td>1086.20</td>\n",
       "      <td>2024-03-01 09:17:00</td>\n",
       "      <td>NFO</td>\n",
       "      <td>28-MAR-2024</td>\n",
       "      <td>1087.55</td>\n",
       "      <td>1086.15</td>\n",
       "      <td>1087.55</td>\n",
       "      <td>50979375</td>\n",
       "      <td>Futures</td>\n",
       "      <td>AXIBAN</td>\n",
       "      <td>61875</td>\n",
       "    </tr>\n",
       "    <tr>\n",
       "      <th>3</th>\n",
       "      <td>1087.25</td>\n",
       "      <td>2024-03-01 09:18:00</td>\n",
       "      <td>NFO</td>\n",
       "      <td>28-MAR-2024</td>\n",
       "      <td>1088.25</td>\n",
       "      <td>1086.95</td>\n",
       "      <td>1087.10</td>\n",
       "      <td>50995625</td>\n",
       "      <td>Futures</td>\n",
       "      <td>AXIBAN</td>\n",
       "      <td>60625</td>\n",
       "    </tr>\n",
       "    <tr>\n",
       "      <th>4</th>\n",
       "      <td>1086.50</td>\n",
       "      <td>2024-03-01 09:19:00</td>\n",
       "      <td>NFO</td>\n",
       "      <td>28-MAR-2024</td>\n",
       "      <td>1087.55</td>\n",
       "      <td>1086.50</td>\n",
       "      <td>1087.25</td>\n",
       "      <td>50995625</td>\n",
       "      <td>Futures</td>\n",
       "      <td>AXIBAN</td>\n",
       "      <td>48125</td>\n",
       "    </tr>\n",
       "    <tr>\n",
       "      <th>...</th>\n",
       "      <td>...</td>\n",
       "      <td>...</td>\n",
       "      <td>...</td>\n",
       "      <td>...</td>\n",
       "      <td>...</td>\n",
       "      <td>...</td>\n",
       "      <td>...</td>\n",
       "      <td>...</td>\n",
       "      <td>...</td>\n",
       "      <td>...</td>\n",
       "      <td>...</td>\n",
       "    </tr>\n",
       "    <tr>\n",
       "      <th>6083</th>\n",
       "      <td>1050.80</td>\n",
       "      <td>2024-03-28 13:56:00</td>\n",
       "      <td>NFO</td>\n",
       "      <td>28-MAR-2024</td>\n",
       "      <td>1051.30</td>\n",
       "      <td>1050.65</td>\n",
       "      <td>1050.80</td>\n",
       "      <td>11893750</td>\n",
       "      <td>Futures</td>\n",
       "      <td>AXIBAN</td>\n",
       "      <td>8125</td>\n",
       "    </tr>\n",
       "    <tr>\n",
       "      <th>6084</th>\n",
       "      <td>1050.40</td>\n",
       "      <td>2024-03-28 13:57:00</td>\n",
       "      <td>NFO</td>\n",
       "      <td>28-MAR-2024</td>\n",
       "      <td>1051.40</td>\n",
       "      <td>1050.40</td>\n",
       "      <td>1050.80</td>\n",
       "      <td>11893750</td>\n",
       "      <td>Futures</td>\n",
       "      <td>AXIBAN</td>\n",
       "      <td>8750</td>\n",
       "    </tr>\n",
       "    <tr>\n",
       "      <th>6085</th>\n",
       "      <td>1050.15</td>\n",
       "      <td>2024-03-28 13:58:00</td>\n",
       "      <td>NFO</td>\n",
       "      <td>28-MAR-2024</td>\n",
       "      <td>1050.70</td>\n",
       "      <td>1050.15</td>\n",
       "      <td>1050.40</td>\n",
       "      <td>11900625</td>\n",
       "      <td>Futures</td>\n",
       "      <td>AXIBAN</td>\n",
       "      <td>36250</td>\n",
       "    </tr>\n",
       "    <tr>\n",
       "      <th>6086</th>\n",
       "      <td>1051.05</td>\n",
       "      <td>2024-03-28 13:59:00</td>\n",
       "      <td>NFO</td>\n",
       "      <td>28-MAR-2024</td>\n",
       "      <td>1051.05</td>\n",
       "      <td>1050.15</td>\n",
       "      <td>1050.15</td>\n",
       "      <td>11900625</td>\n",
       "      <td>Futures</td>\n",
       "      <td>AXIBAN</td>\n",
       "      <td>25625</td>\n",
       "    </tr>\n",
       "    <tr>\n",
       "      <th>6087</th>\n",
       "      <td>1051.15</td>\n",
       "      <td>2024-03-28 14:00:00</td>\n",
       "      <td>NFO</td>\n",
       "      <td>28-MAR-2024</td>\n",
       "      <td>1051.25</td>\n",
       "      <td>1050.70</td>\n",
       "      <td>1051.05</td>\n",
       "      <td>11900625</td>\n",
       "      <td>Futures</td>\n",
       "      <td>AXIBAN</td>\n",
       "      <td>15625</td>\n",
       "    </tr>\n",
       "  </tbody>\n",
       "</table>\n",
       "<p>6088 rows × 11 columns</p>\n",
       "</div>"
      ],
      "text/plain": [
       "        close             datetime exchange_code  expiry_date     high  \\\n",
       "0     1086.10  2024-03-01 09:15:00           NFO  28-MAR-2024  1086.10   \n",
       "1     1087.25  2024-03-01 09:16:00           NFO  28-MAR-2024  1088.15   \n",
       "2     1086.20  2024-03-01 09:17:00           NFO  28-MAR-2024  1087.55   \n",
       "3     1087.25  2024-03-01 09:18:00           NFO  28-MAR-2024  1088.25   \n",
       "4     1086.50  2024-03-01 09:19:00           NFO  28-MAR-2024  1087.55   \n",
       "...       ...                  ...           ...          ...      ...   \n",
       "6083  1050.80  2024-03-28 13:56:00           NFO  28-MAR-2024  1051.30   \n",
       "6084  1050.40  2024-03-28 13:57:00           NFO  28-MAR-2024  1051.40   \n",
       "6085  1050.15  2024-03-28 13:58:00           NFO  28-MAR-2024  1050.70   \n",
       "6086  1051.05  2024-03-28 13:59:00           NFO  28-MAR-2024  1051.05   \n",
       "6087  1051.15  2024-03-28 14:00:00           NFO  28-MAR-2024  1051.25   \n",
       "\n",
       "          low     open  open_interest product_type stock_code  volume  \n",
       "0     1082.00  1082.05       50979375      Futures     AXIBAN  153125  \n",
       "1     1085.25  1085.55       50979375      Futures     AXIBAN  210625  \n",
       "2     1086.15  1087.55       50979375      Futures     AXIBAN   61875  \n",
       "3     1086.95  1087.10       50995625      Futures     AXIBAN   60625  \n",
       "4     1086.50  1087.25       50995625      Futures     AXIBAN   48125  \n",
       "...       ...      ...            ...          ...        ...     ...  \n",
       "6083  1050.65  1050.80       11893750      Futures     AXIBAN    8125  \n",
       "6084  1050.40  1050.80       11893750      Futures     AXIBAN    8750  \n",
       "6085  1050.15  1050.40       11900625      Futures     AXIBAN   36250  \n",
       "6086  1050.15  1050.15       11900625      Futures     AXIBAN   25625  \n",
       "6087  1050.70  1051.05       11900625      Futures     AXIBAN   15625  \n",
       "\n",
       "[6088 rows x 11 columns]"
      ]
     },
     "execution_count": 7,
     "metadata": {},
     "output_type": "execute_result"
    }
   ],
   "source": [
    "#Load csv data into a DataFrame\n",
    "file_path = 'C:/Users/SWATHI/Downloads/AxisBank-Futures-Exp28Mar2024.csv'\n",
    "data = pd.read_csv(file_path)\n",
    "data"
   ]
  },
  {
   "cell_type": "code",
   "execution_count": 8,
   "id": "5b577e36",
   "metadata": {},
   "outputs": [
    {
     "name": "stdout",
     "output_type": "stream",
     "text": [
      "     close             datetime exchange_code  expiry_date     high      low  \\\n",
      "0  1086.10  2024-03-01 09:15:00           NFO  28-MAR-2024  1086.10  1082.00   \n",
      "1  1087.25  2024-03-01 09:16:00           NFO  28-MAR-2024  1088.15  1085.25   \n",
      "2  1086.20  2024-03-01 09:17:00           NFO  28-MAR-2024  1087.55  1086.15   \n",
      "3  1087.25  2024-03-01 09:18:00           NFO  28-MAR-2024  1088.25  1086.95   \n",
      "4  1086.50  2024-03-01 09:19:00           NFO  28-MAR-2024  1087.55  1086.50   \n",
      "\n",
      "      open  open_interest product_type stock_code  volume  \n",
      "0  1082.05       50979375      Futures     AXIBAN  153125  \n",
      "1  1085.55       50979375      Futures     AXIBAN  210625  \n",
      "2  1087.55       50979375      Futures     AXIBAN   61875  \n",
      "3  1087.10       50995625      Futures     AXIBAN   60625  \n",
      "4  1087.25       50995625      Futures     AXIBAN   48125  \n"
     ]
    }
   ],
   "source": [
    "print(data.head())"
   ]
  },
  {
   "cell_type": "code",
   "execution_count": 9,
   "id": "46f5e2ae",
   "metadata": {},
   "outputs": [
    {
     "data": {
      "text/html": [
       "<div>\n",
       "<style scoped>\n",
       "    .dataframe tbody tr th:only-of-type {\n",
       "        vertical-align: middle;\n",
       "    }\n",
       "\n",
       "    .dataframe tbody tr th {\n",
       "        vertical-align: top;\n",
       "    }\n",
       "\n",
       "    .dataframe thead th {\n",
       "        text-align: right;\n",
       "    }\n",
       "</style>\n",
       "<table border=\"1\" class=\"dataframe\">\n",
       "  <thead>\n",
       "    <tr style=\"text-align: right;\">\n",
       "      <th></th>\n",
       "      <th>datetime</th>\n",
       "      <th>close</th>\n",
       "      <th>open</th>\n",
       "      <th>high</th>\n",
       "      <th>volume</th>\n",
       "      <th>low</th>\n",
       "    </tr>\n",
       "  </thead>\n",
       "  <tbody>\n",
       "    <tr>\n",
       "      <th>0</th>\n",
       "      <td>2024-03-01 09:15:00</td>\n",
       "      <td>1086.10</td>\n",
       "      <td>1082.05</td>\n",
       "      <td>1086.10</td>\n",
       "      <td>153125</td>\n",
       "      <td>1082.00</td>\n",
       "    </tr>\n",
       "    <tr>\n",
       "      <th>1</th>\n",
       "      <td>2024-03-01 09:16:00</td>\n",
       "      <td>1087.25</td>\n",
       "      <td>1085.55</td>\n",
       "      <td>1088.15</td>\n",
       "      <td>210625</td>\n",
       "      <td>1085.25</td>\n",
       "    </tr>\n",
       "    <tr>\n",
       "      <th>2</th>\n",
       "      <td>2024-03-01 09:17:00</td>\n",
       "      <td>1086.20</td>\n",
       "      <td>1087.55</td>\n",
       "      <td>1087.55</td>\n",
       "      <td>61875</td>\n",
       "      <td>1086.15</td>\n",
       "    </tr>\n",
       "    <tr>\n",
       "      <th>3</th>\n",
       "      <td>2024-03-01 09:18:00</td>\n",
       "      <td>1087.25</td>\n",
       "      <td>1087.10</td>\n",
       "      <td>1088.25</td>\n",
       "      <td>60625</td>\n",
       "      <td>1086.95</td>\n",
       "    </tr>\n",
       "    <tr>\n",
       "      <th>4</th>\n",
       "      <td>2024-03-01 09:19:00</td>\n",
       "      <td>1086.50</td>\n",
       "      <td>1087.25</td>\n",
       "      <td>1087.55</td>\n",
       "      <td>48125</td>\n",
       "      <td>1086.50</td>\n",
       "    </tr>\n",
       "  </tbody>\n",
       "</table>\n",
       "</div>"
      ],
      "text/plain": [
       "              datetime    close     open     high  volume      low\n",
       "0  2024-03-01 09:15:00  1086.10  1082.05  1086.10  153125  1082.00\n",
       "1  2024-03-01 09:16:00  1087.25  1085.55  1088.15  210625  1085.25\n",
       "2  2024-03-01 09:17:00  1086.20  1087.55  1087.55   61875  1086.15\n",
       "3  2024-03-01 09:18:00  1087.25  1087.10  1088.25   60625  1086.95\n",
       "4  2024-03-01 09:19:00  1086.50  1087.25  1087.55   48125  1086.50"
      ]
     },
     "execution_count": 9,
     "metadata": {},
     "output_type": "execute_result"
    }
   ],
   "source": [
    "sel_cols = ['datetime', 'close', 'open', 'high', 'volume', 'low']\n",
    "data = data[sel_cols]\n",
    "data.head()"
   ]
  },
  {
   "cell_type": "code",
   "execution_count": 25,
   "id": "e9e54af1",
   "metadata": {
    "scrolled": true
   },
   "outputs": [
    {
     "data": {
      "text/html": [
       "<div>\n",
       "<style scoped>\n",
       "    .dataframe tbody tr th:only-of-type {\n",
       "        vertical-align: middle;\n",
       "    }\n",
       "\n",
       "    .dataframe tbody tr th {\n",
       "        vertical-align: top;\n",
       "    }\n",
       "\n",
       "    .dataframe thead th {\n",
       "        text-align: right;\n",
       "    }\n",
       "</style>\n",
       "<table border=\"1\" class=\"dataframe\">\n",
       "  <thead>\n",
       "    <tr style=\"text-align: right;\">\n",
       "      <th></th>\n",
       "      <th>datetime</th>\n",
       "      <th>close</th>\n",
       "      <th>open</th>\n",
       "      <th>high</th>\n",
       "      <th>volume</th>\n",
       "      <th>low</th>\n",
       "      <th>SMA_50</th>\n",
       "      <th>SMA_200</th>\n",
       "      <th>Signal</th>\n",
       "      <th>Position</th>\n",
       "      <th>Strategy_Returns</th>\n",
       "      <th>Cumulative_Returns</th>\n",
       "    </tr>\n",
       "  </thead>\n",
       "  <tbody>\n",
       "    <tr>\n",
       "      <th>0</th>\n",
       "      <td>2024-03-01 09:15:00</td>\n",
       "      <td>1086.10</td>\n",
       "      <td>1082.05</td>\n",
       "      <td>1086.10</td>\n",
       "      <td>153125</td>\n",
       "      <td>1082.00</td>\n",
       "      <td>1086.100000</td>\n",
       "      <td>1086.100000</td>\n",
       "      <td>0</td>\n",
       "      <td>NaN</td>\n",
       "      <td>NaN</td>\n",
       "      <td>NaN</td>\n",
       "    </tr>\n",
       "    <tr>\n",
       "      <th>1</th>\n",
       "      <td>2024-03-01 09:16:00</td>\n",
       "      <td>1087.25</td>\n",
       "      <td>1085.55</td>\n",
       "      <td>1088.15</td>\n",
       "      <td>210625</td>\n",
       "      <td>1085.25</td>\n",
       "      <td>1086.675000</td>\n",
       "      <td>1086.675000</td>\n",
       "      <td>0</td>\n",
       "      <td>0.0</td>\n",
       "      <td>0.0</td>\n",
       "      <td>1.0</td>\n",
       "    </tr>\n",
       "    <tr>\n",
       "      <th>2</th>\n",
       "      <td>2024-03-01 09:17:00</td>\n",
       "      <td>1086.20</td>\n",
       "      <td>1087.55</td>\n",
       "      <td>1087.55</td>\n",
       "      <td>61875</td>\n",
       "      <td>1086.15</td>\n",
       "      <td>1086.516667</td>\n",
       "      <td>1086.516667</td>\n",
       "      <td>0</td>\n",
       "      <td>0.0</td>\n",
       "      <td>-0.0</td>\n",
       "      <td>1.0</td>\n",
       "    </tr>\n",
       "    <tr>\n",
       "      <th>3</th>\n",
       "      <td>2024-03-01 09:18:00</td>\n",
       "      <td>1087.25</td>\n",
       "      <td>1087.10</td>\n",
       "      <td>1088.25</td>\n",
       "      <td>60625</td>\n",
       "      <td>1086.95</td>\n",
       "      <td>1086.700000</td>\n",
       "      <td>1086.700000</td>\n",
       "      <td>0</td>\n",
       "      <td>0.0</td>\n",
       "      <td>0.0</td>\n",
       "      <td>1.0</td>\n",
       "    </tr>\n",
       "    <tr>\n",
       "      <th>4</th>\n",
       "      <td>2024-03-01 09:19:00</td>\n",
       "      <td>1086.50</td>\n",
       "      <td>1087.25</td>\n",
       "      <td>1087.55</td>\n",
       "      <td>48125</td>\n",
       "      <td>1086.50</td>\n",
       "      <td>1086.660000</td>\n",
       "      <td>1086.660000</td>\n",
       "      <td>0</td>\n",
       "      <td>0.0</td>\n",
       "      <td>-0.0</td>\n",
       "      <td>1.0</td>\n",
       "    </tr>\n",
       "  </tbody>\n",
       "</table>\n",
       "</div>"
      ],
      "text/plain": [
       "             datetime    close     open     high  volume      low  \\\n",
       "0 2024-03-01 09:15:00  1086.10  1082.05  1086.10  153125  1082.00   \n",
       "1 2024-03-01 09:16:00  1087.25  1085.55  1088.15  210625  1085.25   \n",
       "2 2024-03-01 09:17:00  1086.20  1087.55  1087.55   61875  1086.15   \n",
       "3 2024-03-01 09:18:00  1087.25  1087.10  1088.25   60625  1086.95   \n",
       "4 2024-03-01 09:19:00  1086.50  1087.25  1087.55   48125  1086.50   \n",
       "\n",
       "        SMA_50      SMA_200  Signal  Position  Strategy_Returns  \\\n",
       "0  1086.100000  1086.100000       0       NaN               NaN   \n",
       "1  1086.675000  1086.675000       0       0.0               0.0   \n",
       "2  1086.516667  1086.516667       0       0.0              -0.0   \n",
       "3  1086.700000  1086.700000       0       0.0               0.0   \n",
       "4  1086.660000  1086.660000       0       0.0              -0.0   \n",
       "\n",
       "   Cumulative_Returns  \n",
       "0                 NaN  \n",
       "1                 1.0  \n",
       "2                 1.0  \n",
       "3                 1.0  \n",
       "4                 1.0  "
      ]
     },
     "execution_count": 25,
     "metadata": {},
     "output_type": "execute_result"
    }
   ],
   "source": [
    "# Convert 'datetime' to a pandas datetime type\n",
    "data['datetime'] = pd.to_datetime(data['datetime'])\n",
    "data = data.loc[:, :]\n",
    "data = data.sort_values(by='datetime')\n",
    "data.head()"
   ]
  },
  {
   "cell_type": "code",
   "execution_count": 11,
   "id": "27511494",
   "metadata": {},
   "outputs": [],
   "source": [
    "# Defining the short-term and long-term moving averages\n",
    "short_window = 50  \n",
    "long_window = 200  "
   ]
  },
  {
   "cell_type": "code",
   "execution_count": 12,
   "id": "6ed92ccd",
   "metadata": {},
   "outputs": [
    {
     "data": {
      "text/plain": [
       "0       1086.100000\n",
       "1       1086.675000\n",
       "2       1086.516667\n",
       "3       1086.700000\n",
       "4       1086.660000\n",
       "           ...     \n",
       "6083    1051.924000\n",
       "6084    1051.877000\n",
       "6085    1051.811000\n",
       "6086    1051.764000\n",
       "6087    1051.724000\n",
       "Name: SMA_50, Length: 6088, dtype: float64"
      ]
     },
     "execution_count": 12,
     "metadata": {},
     "output_type": "execute_result"
    }
   ],
   "source": [
    "# Calculate the moving averages\n",
    "data['SMA_50'] = data['close'].rolling(window=short_window, min_periods=1).mean()\n",
    "data['SMA_50']"
   ]
  },
  {
   "cell_type": "code",
   "execution_count": 13,
   "id": "16fa2dc5",
   "metadata": {},
   "outputs": [
    {
     "data": {
      "text/plain": [
       "0       1086.100000\n",
       "1       1086.675000\n",
       "2       1086.516667\n",
       "3       1086.700000\n",
       "4       1086.660000\n",
       "           ...     \n",
       "6083    1052.686500\n",
       "6084    1052.667750\n",
       "6085    1052.643500\n",
       "6086    1052.620500\n",
       "6087    1052.590250\n",
       "Name: SMA_200, Length: 6088, dtype: float64"
      ]
     },
     "execution_count": 13,
     "metadata": {},
     "output_type": "execute_result"
    }
   ],
   "source": [
    "data['SMA_200'] = data['close'].rolling(window=long_window, min_periods=1).mean()\n",
    "data['SMA_200']"
   ]
  },
  {
   "cell_type": "code",
   "execution_count": 14,
   "id": "4ee79f67",
   "metadata": {},
   "outputs": [
    {
     "data": {
      "text/plain": [
       "0       0\n",
       "1       0\n",
       "2       0\n",
       "3       0\n",
       "4       0\n",
       "       ..\n",
       "6083    0\n",
       "6084    0\n",
       "6085    0\n",
       "6086    0\n",
       "6087    0\n",
       "Name: Signal, Length: 6088, dtype: int64"
      ]
     },
     "execution_count": 14,
     "metadata": {},
     "output_type": "execute_result"
    }
   ],
   "source": [
    "# Create a signal for crossovers\n",
    "data['Signal'] = 0  # No initial signal\n",
    "data['Signal']"
   ]
  },
  {
   "cell_type": "code",
   "execution_count": 15,
   "id": "1a27afac",
   "metadata": {},
   "outputs": [],
   "source": [
    "data.loc[data['SMA_50'] > data['SMA_200'], 'Signal'] = 1  # Buy signal\n",
    "data.loc[data['SMA_50'] < data['SMA_200'], 'Signal'] = -1  # Sell signal"
   ]
  },
  {
   "cell_type": "code",
   "execution_count": 16,
   "id": "6df3dd4f",
   "metadata": {},
   "outputs": [
    {
     "data": {
      "text/plain": [
       "0       NaN\n",
       "1       0.0\n",
       "2       0.0\n",
       "3       0.0\n",
       "4       0.0\n",
       "       ... \n",
       "6083   -1.0\n",
       "6084   -1.0\n",
       "6085   -1.0\n",
       "6086   -1.0\n",
       "6087   -1.0\n",
       "Name: Position, Length: 6088, dtype: float64"
      ]
     },
     "execution_count": 16,
     "metadata": {},
     "output_type": "execute_result"
    }
   ],
   "source": [
    "# Shift the signal to simulate trades on the next day\n",
    "data['Position'] = data['Signal'].shift(1)\n",
    "data['Position']"
   ]
  },
  {
   "cell_type": "code",
   "execution_count": 17,
   "id": "7e461468",
   "metadata": {},
   "outputs": [
    {
     "data": {
      "text/plain": [
       "0            NaN\n",
       "1       0.000000\n",
       "2      -0.000000\n",
       "3       0.000000\n",
       "4      -0.000000\n",
       "          ...   \n",
       "6083   -0.000000\n",
       "6084    0.000381\n",
       "6085    0.000238\n",
       "6086   -0.000857\n",
       "6087   -0.000095\n",
       "Name: Strategy_Returns, Length: 6088, dtype: float64"
      ]
     },
     "execution_count": 17,
     "metadata": {},
     "output_type": "execute_result"
    }
   ],
   "source": [
    "# Calculate daily returns for the backtest\n",
    "data['Position'] = data['Signal'].shift(1)\n",
    "data['Strategy_Returns'] = data['Position'] * data['close'].pct_change()\n",
    "data['Strategy_Returns']"
   ]
  },
  {
   "cell_type": "code",
   "execution_count": 18,
   "id": "89aa75e4",
   "metadata": {},
   "outputs": [
    {
     "data": {
      "text/plain": [
       "0            NaN\n",
       "1       0.000000\n",
       "2      -0.000000\n",
       "3       0.000000\n",
       "4      -0.000000\n",
       "          ...   \n",
       "6083   -0.000000\n",
       "6084    0.000381\n",
       "6085    0.000238\n",
       "6086   -0.000857\n",
       "6087   -0.000095\n",
       "Name: Strategy_Returns, Length: 6088, dtype: float64"
      ]
     },
     "execution_count": 18,
     "metadata": {},
     "output_type": "execute_result"
    }
   ],
   "source": [
    "data['Strategy_Returns']"
   ]
  },
  {
   "cell_type": "code",
   "execution_count": 19,
   "id": "3e2883ef",
   "metadata": {},
   "outputs": [
    {
     "data": {
      "text/plain": [
       "0            NaN\n",
       "1       1.000000\n",
       "2       1.000000\n",
       "3       1.000000\n",
       "4       1.000000\n",
       "          ...   \n",
       "6083    0.908328\n",
       "6084    0.908673\n",
       "6085    0.908890\n",
       "6086    0.908111\n",
       "6087    0.908024\n",
       "Name: Cumulative_Returns, Length: 6088, dtype: float64"
      ]
     },
     "execution_count": 19,
     "metadata": {},
     "output_type": "execute_result"
    }
   ],
   "source": [
    "# Calculate cumulative returns to evaluate the strategy's performance\n",
    "data['Cumulative_Returns'] = (1 + data['Strategy_Returns']).cumprod()\n",
    "data['Cumulative_Returns']"
   ]
  },
  {
   "cell_type": "code",
   "execution_count": 20,
   "id": "b5b27868",
   "metadata": {},
   "outputs": [],
   "source": [
    "# Plot the moving averages and crossover signals"
   ]
  },
  {
   "cell_type": "code",
   "execution_count": 21,
   "id": "d7ff07cd",
   "metadata": {},
   "outputs": [
    {
     "data": {
      "image/png": "[encoded data removed]",
      "text/plain": [
       "<Figure size 864x432 with 1 Axes>"
      ]
     },
     "metadata": {
      "needs_background": "light"
     },
     "output_type": "display_data"
    }
   ],
   "source": [
    "plt.figure(figsize=(12, 6))\n",
    "plt.plot(data['datetime'], data['close'], label='Closing Price')\n",
    "plt.plot(data['datetime'], data['SMA_50'], label='50-Day SMA', linestyle='--')\n",
    "plt.plot(data['datetime'], data['SMA_200'], label='200-Day SMA', linestyle='--')\n",
    "plt.title(\"Moving Average Crossover Strategy\")\n",
    "plt.xlabel(\"datetime\")\n",
    "plt.ylabel(\"Price\")\n",
    "plt.legend()\n",
    "plt.show()"
   ]
  },
  {
   "cell_type": "code",
   "execution_count": 22,
   "id": "40d34f27",
   "metadata": {},
   "outputs": [
    {
     "data": {
      "image/png": "[encoded data removed]",
      "text/plain": [
       "<Figure size 864x432 with 1 Axes>"
      ]
     },
     "metadata": {
      "needs_background": "light"
     },
     "output_type": "display_data"
    }
   ],
   "source": [
    "# Plot the cumulative returns for the strategy\n",
    "plt.figure(figsize=(12, 6))\n",
    "plt.plot(data['datetime'], data['Cumulative_Returns'], label='Cumulative Returns', color='green')\n",
    "plt.title(\"Cumulative Returns of Moving Average Crossover Strategy\")\n",
    "plt.xlabel(\"datetime\")\n",
    "plt.ylabel(\"Cumulative Returns\")\n",
    "plt.legend()\n",
    "plt.show()\n"
   ]
  },
  {
   "cell_type": "code",
   "execution_count": null,
   "id": "1e97b06c",
   "metadata": {},
   "outputs": [],
   "source": []
  },
  {
   "cell_type": "code",
   "execution_count": null,
   "id": "ba1644de",
   "metadata": {},
   "outputs": [],
   "source": []
  },
  {
   "cell_type": "code",
   "execution_count": 1,
   "id": "1df318da",
   "metadata": {},
   "outputs": [
    {
     "name": "stdout",
     "output_type": "stream",
     "text": [
      "     close             datetime exchange_code  expiry_date     high      low  \\\n",
      "0  1086.10  2024-03-01 09:15:00           NFO  28-MAR-2024  1086.10  1082.00   \n",
      "1  1087.25  2024-03-01 09:16:00           NFO  28-MAR-2024  1088.15  1085.25   \n",
      "2  1086.20  2024-03-01 09:17:00           NFO  28-MAR-2024  1087.55  1086.15   \n",
      "3  1087.25  2024-03-01 09:18:00           NFO  28-MAR-2024  1088.25  1086.95   \n",
      "4  1086.50  2024-03-01 09:19:00           NFO  28-MAR-2024  1087.55  1086.50   \n",
      "\n",
      "      open  open_interest product_type stock_code  volume  \n",
      "0  1082.05       50979375      Futures     AXIBAN  153125  \n",
      "1  1085.55       50979375      Futures     AXIBAN  210625  \n",
      "2  1087.55       50979375      Futures     AXIBAN   61875  \n",
      "3  1087.10       50995625      Futures     AXIBAN   60625  \n",
      "4  1087.25       50995625      Futures     AXIBAN   48125  \n"
     ]
    },
    {
     "data": {
      "image/png": "[encoded data removed]",
      "text/plain": [
       "<Figure size 864x432 with 1 Axes>"
      ]
     },
     "metadata": {
      "needs_background": "light"
     },
     "output_type": "display_data"
    },
    {
     "data": {
      "image/png": "[encoded data removed]",
      "text/plain": [
       "<Figure size 864x432 with 1 Axes>"
      ]
     },
     "metadata": {
      "needs_background": "light"
     },
     "output_type": "display_data"
    }
   ],
   "source": [
    "import pandas as pd\n",
    "import matplotlib.pyplot as plt\n",
    "\n",
    "# Load the CSV df_axis into a dataframe\n",
    "file_path = 'C:/Users/SWATHI/Downloads/AxisBank-Futures-Exp28Mar2024.csv'\n",
    "df_axis = pd.read_csv(file_path)\n",
    "\n",
    "print(df_axis.head())\n",
    "\n",
    "# Converting into pandas dateime type\n",
    "df_axis['datetime'] = pd.to_datetime(df_axis['datetime'])\n",
    "\n",
    "# Sorting by datetime\n",
    "df_axis = df_axis.sort_values(by='datetime')\n",
    "\n",
    "# Define the 50-day short-term and 200-day long-term moving averages\n",
    "short_window = 50  \n",
    "long_window = 200  \n",
    "\n",
    "# Calculate the moving averages\n",
    "df_axis['SMA_50'] = df_axis['close'].rolling(window=short_window, min_periods=1).mean()\n",
    "df_axis['SMA_200'] = df_axis['close'].rolling(window=long_window, min_periods=1).mean()\n",
    "\n",
    "# Create a signal for crossovers\n",
    "df_axis['Signal'] = 0  # No initial signal\n",
    "df_axis.loc[df_axis['SMA_50'] > df_axis['SMA_200'], 'Signal'] = 1  # Buy signal\n",
    "df_axis.loc[df_axis['SMA_50'] < df_axis['SMA_200'], 'Signal'] = -1  # Sell signal\n",
    "\n",
    "# Shift the signal to simulate trades on the next day\n",
    "df_axis['Position'] = df_axis['Signal'].shift(1)\n",
    "df_axis['Position'] = df_axis['Signal'].shift(1)\n",
    "\n",
    "# Calculate daily returns for the backtest\n",
    "df_axis['Strategy_Returns'] = df_axis['Position'] * df_axis['close'].pct_change()\n",
    "\n",
    "# Calculate cumulative returns to evaluate the strategy's performance\n",
    "df_axis['Cumulative_Returns'] = (1 + df_axis['Strategy_Returns']).cumprod()\n",
    "\n",
    "# Plot the moving averages and crossover signals\n",
    "plt.figure(figsize=(12, 6))\n",
    "plt.plot(df_axis['datetime'], df_axis['close'], label='Closing Price')\n",
    "plt.plot(df_axis['datetime'], df_axis['SMA_50'], label='50-Day SMA', linestyle='--')\n",
    "plt.plot(df_axis['datetime'], df_axis['SMA_200'], label='200-Day SMA', linestyle='--')\n",
    "plt.title(\"Moving Average Crossover Strategy\")\n",
    "plt.xlabel(\"datetime\")\n",
    "plt.ylabel(\"Price\")\n",
    "plt.legend()\n",
    "plt.show()\n",
    "\n",
    "# Plot the cumulative returns for the strategy\n",
    "plt.figure(figsize=(12, 6))\n",
    "plt.plot(df_axis['datetime'], df_axis['Cumulative_Returns'], label='Cumulative Returns', color='green')\n",
    "plt.title(\"Cumulative Returns of Moving Average Crossover Strategy\")\n",
    "plt.xlabel(\"datetime\")\n",
    "plt.ylabel(\"Cumulative Returns\")\n",
    "plt.legend()\n",
    "plt.show()\n"
   ]
  },
  {
   "cell_type": "code",
   "execution_count": null,
   "id": "06e4b607",
   "metadata": {},
   "outputs": [],
   "source": []
  }
 ],
 "metadata": {
  "kernelspec": {
   "display_name": "Python 3",
   "language": "python",
   "name": "python3"
  },
  "language_info": {
   "codemirror_mode": {
    "name": "ipython",
    "version": 3
   },
   "file_extension": ".py",
   "mimetype": "text/x-python",
   "name": "python",
   "nbconvert_exporter": "python",
   "pygments_lexer": "ipython3",
   "version": "3.8.8"
  }
 },
 "nbformat": 4,
 "nbformat_minor": 5
}
